{
 "cells": [
  {
   "cell_type": "code",
   "execution_count": 1,
   "metadata": {},
   "outputs": [],
   "source": [
    "import numpy as np\n",
    "import matplotlib.pyplot as plt\n",
    "from scipy.io import loadmat\n",
    "from scipy.optimize import minimize"
   ]
  },
  {
   "cell_type": "code",
   "execution_count": 2,
   "metadata": {},
   "outputs": [
    {
     "data": {
      "text/plain": [
       "dict_keys(['__header__', '__version__', '__globals__', 'X', 'y', 'Xtest', 'ytest', 'Xval', 'yval'])"
      ]
     },
     "execution_count": 2,
     "metadata": {},
     "output_type": "execute_result"
    }
   ],
   "source": [
    "data = loadmat('ex5data1.mat')\n",
    "data.keys()"
   ]
  },
  {
   "cell_type": "code",
   "execution_count": 3,
   "metadata": {},
   "outputs": [
    {
     "data": {
      "text/plain": [
       "((12, 1), (12, 1))"
      ]
     },
     "execution_count": 3,
     "metadata": {},
     "output_type": "execute_result"
    }
   ],
   "source": [
    "# 训练集\n",
    "X_train, y_train = data['X'], data['y']\n",
    "X_train.shape, y_train.shape"
   ]
  },
  {
   "cell_type": "code",
   "execution_count": 4,
   "metadata": {},
   "outputs": [
    {
     "data": {
      "text/plain": [
       "((21, 1), (21, 1))"
      ]
     },
     "execution_count": 4,
     "metadata": {},
     "output_type": "execute_result"
    }
   ],
   "source": [
    "# 验证集\n",
    "X_val, y_val = data['Xval'], data['yval']\n",
    "X_val.shape, y_val.shape"
   ]
  },
  {
   "cell_type": "code",
   "execution_count": 5,
   "metadata": {},
   "outputs": [
    {
     "data": {
      "text/plain": [
       "((21, 1), (21, 1))"
      ]
     },
     "execution_count": 5,
     "metadata": {},
     "output_type": "execute_result"
    }
   ],
   "source": [
    "# 测试集\n",
    "X_test, y_test = data['Xtest'], data['ytest']\n",
    "X_test.shape, y_test.shape"
   ]
  },
  {
   "cell_type": "code",
   "execution_count": 6,
   "metadata": {},
   "outputs": [
    {
     "data": {
      "text/plain": [
       "(array([[  1.        , -15.93675813],\n",
       "        [  1.        , -29.15297922],\n",
       "        [  1.        ,  36.18954863],\n",
       "        [  1.        ,  37.49218733],\n",
       "        [  1.        , -48.05882945],\n",
       "        [  1.        ,  -8.94145794],\n",
       "        [  1.        ,  15.30779289],\n",
       "        [  1.        , -34.70626581],\n",
       "        [  1.        ,   1.38915437],\n",
       "        [  1.        , -44.38375985],\n",
       "        [  1.        ,   7.01350208],\n",
       "        [  1.        ,  22.76274892]]),\n",
       " (12, 2))"
      ]
     },
     "execution_count": 6,
     "metadata": {},
     "output_type": "execute_result"
    }
   ],
   "source": [
    "# 加一维，h = theta0*1 + theta1*x1\n",
    "X_train = np.insert(X_train, 0, 1, axis=1)\n",
    "X_val = np.insert(X_val, 0, 1, axis=1)\n",
    "X_test = np.insert(X_test, 0, 1, axis=1)\n",
    "X_train, X_train.shape"
   ]
  },
  {
   "cell_type": "code",
   "execution_count": 7,
   "metadata": {},
   "outputs": [],
   "source": [
    "def plot_data():\n",
    "    fig, ax = plt.subplots()\n",
    "    ax.scatter(X_train[:, 1], y_train)\n",
    "    ax.set(xlabel = 'change in water level(x)', \n",
    "          ylabel = 'water flowing out of the dam(y)')"
   ]
  },
  {
   "cell_type": "code",
   "execution_count": 8,
   "metadata": {},
   "outputs": [
    {
     "data": {
      "image/png": "[encoded data removed]",
      "text/plain": [
       "<Figure size 432x288 with 1 Axes>"
      ]
     },
     "metadata": {
      "needs_background": "light"
     },
     "output_type": "display_data"
    }
   ],
   "source": [
    "plot_data()"
   ]
  },
  {
   "cell_type": "markdown",
   "metadata": {},
   "source": [
    "损失函数：\n",
    "$$J(\\theta) = \\frac{1}{2m}\\bigg[\\sum^m_{i=1}(h_\\theta(x^{(i)})-y^{(i)})^2 + \\lambda\\sum^m_{j=1}\\theta^2_j\\bigg]$$\n",
    "损失函数向量化：\n",
    "$$J(\\theta) = \\frac{1}{2m}SUM((X@\\theta-y)^2)+\\frac{\\lambda}{2m}\\theta^2$$\n",
    "（$\\theta$的第一个参数不参与正则化）\n",
    "\n",
    "梯度：\n",
    "$$\\frac{\\partial J(\\theta)}{\\partial\\theta_j} = \\bigg(\\frac{1}{m}\\sum^m_{i=1}(h_\\theta(x^{(i)})-y^{(i)})x_j^{(i)} \\bigg)+\\frac{\\lambda}{m}\\theta_j$$\n",
    "梯度向量化：\n",
    "$$reg=\\frac{1}{m}(X@\\theta-y)@X+\\frac{\\lambda}{m}\\theta$$"
   ]
  },
  {
   "cell_type": "code",
   "execution_count": 9,
   "metadata": {},
   "outputs": [],
   "source": [
    "# 定义带正则化的损失函数\n",
    "def reg_cost(theta, X, y, _lambda):\n",
    "    cost = np.sum(np.power((X@theta - y.flatten()), 2))\n",
    "    reg = theta[1:]@theta[1:] * _lambda\n",
    "    return (cost + reg) / (2 * len(X))"
   ]
  },
  {
   "cell_type": "code",
   "execution_count": 10,
   "metadata": {},
   "outputs": [
    {
     "data": {
      "text/plain": [
       "303.9931922202643"
      ]
     },
     "execution_count": 10,
     "metadata": {},
     "output_type": "execute_result"
    }
   ],
   "source": [
    "# 看一下损失函数写对了没有\n",
    "theta = np.ones(X_train.shape[1])  # theta的个数是训练集的列数\n",
    "_lambda = 1\n",
    "reg_cost(theta, X_train, y_train, _lambda)"
   ]
  },
  {
   "cell_type": "code",
   "execution_count": 11,
   "metadata": {},
   "outputs": [
    {
     "data": {
      "text/plain": [
       "(array([1., 1.]), (2,))"
      ]
     },
     "execution_count": 11,
     "metadata": {},
     "output_type": "execute_result"
    }
   ],
   "source": [
    "theta, theta.shape"
   ]
  },
  {
   "cell_type": "code",
   "execution_count": 12,
   "metadata": {},
   "outputs": [],
   "source": [
    "# 定义带正则化的梯度函数\n",
    "def reg_gradient(theta, X, y, _lambda):\n",
    "    grad = (X@theta - y.flatten())@X\n",
    "    reg = _lambda * theta\n",
    "    reg[0] = 0  # 偏移项不参加正则化\n",
    "    return (grad + reg) / len(X)"
   ]
  },
  {
   "cell_type": "code",
   "execution_count": 13,
   "metadata": {},
   "outputs": [
    {
     "data": {
      "text/plain": [
       "array([-15.30301567, 598.25074417])"
      ]
     },
     "execution_count": 13,
     "metadata": {},
     "output_type": "execute_result"
    }
   ],
   "source": [
    "reg_gradient(theta, X_train, y_train, _lambda)"
   ]
  },
  {
   "cell_type": "code",
   "execution_count": 14,
   "metadata": {},
   "outputs": [],
   "source": [
    "# 定义训练模型的函数\n",
    "def train_model(X, y, _lambda):\n",
    "    theta = np.ones(X.shape[1])\n",
    "    \n",
    "    res = minimize(fun = reg_cost, \n",
    "                  x0 = theta, \n",
    "                  args = (X, y, _lambda), \n",
    "                  method = 'TNC', \n",
    "                  jac = reg_gradient)\n",
    "    \n",
    "    return res.x"
   ]
  },
  {
   "cell_type": "code",
   "execution_count": 15,
   "metadata": {},
   "outputs": [],
   "source": [
    "theta_final = train_model(X_train, y_train, _lambda=0) # 线性回归不会过拟合，先不设置 lambda"
   ]
  },
  {
   "cell_type": "code",
   "execution_count": 16,
   "metadata": {},
   "outputs": [
    {
     "data": {
      "image/png": "[encoded data removed]",
      "text/plain": [
       "<Figure size 432x288 with 1 Axes>"
      ]
     },
     "metadata": {
      "needs_background": "light"
     },
     "output_type": "display_data"
    }
   ],
   "source": [
    "plot_data()\n",
    "plt.plot(X_train[:, 1], X_train@theta_final, c='r')\n",
    "plt.show()"
   ]
  },
  {
   "cell_type": "markdown",
   "metadata": {},
   "source": [
    "## 绘制学习曲线\n",
    "\n",
    "训练样本数量从1开始递增进行训练，比较训练集和验证集上的损失函数的变化情况"
   ]
  },
  {
   "cell_type": "code",
   "execution_count": 17,
   "metadata": {},
   "outputs": [],
   "source": [
    "def plot_learning_curve(X_train, y_train, X_val, y_val, _lambda):\n",
    "    x = range(1, len(X_train) + 1)\n",
    "    training_cost = []\n",
    "    cv_cost = []\n",
    "    \n",
    "    for i in x:\n",
    "        res = train_model(X_train[:i, :], y_train[:i, :], _lambda)\n",
    "        training_cost_i = reg_cost(res, X_train[:i, :], y_train[:i, :], _lambda)\n",
    "        cv_cost_i = reg_cost(res, X_val, y_val, _lambda)\n",
    "        \n",
    "        training_cost.append(training_cost_i)\n",
    "        cv_cost.append(cv_cost_i)\n",
    "        \n",
    "    plt.plot(x, training_cost, label='training cost')\n",
    "    plt.plot(x, cv_cost, label='cv cost')\n",
    "    plt.legend()\n",
    "    plt.xlabel('number of training examples')\n",
    "    plt.ylabel('error')\n",
    "    plt.show()"
   ]
  },
  {
   "cell_type": "code",
   "execution_count": 18,
   "metadata": {},
   "outputs": [
    {
     "data": {
      "image/png": "[encoded data removed]",
      "text/plain": [
       "<Figure size 432x288 with 1 Axes>"
      ]
     },
     "metadata": {
      "needs_background": "light"
     },
     "output_type": "display_data"
    }
   ],
   "source": [
    "plot_learning_curve(X_train, y_train, X_val, y_val, 0)"
   ]
  },
  {
   "cell_type": "markdown",
   "metadata": {},
   "source": [
    "可以看到，随着训练集增大，$J_{train}$ 和 $J_{cv}$ 都比较大，模型是 high bias 的状态，是欠拟合的。\n",
    "\n",
    "在之前并没有设置 $\\lambda$ ，并且只有水位一个特征，所以采用多项式特征来改进模型。"
   ]
  },
  {
   "cell_type": "markdown",
   "metadata": {},
   "source": [
    "## 构造多项式特征"
   ]
  },
  {
   "cell_type": "code",
   "execution_count": 19,
   "metadata": {},
   "outputs": [],
   "source": [
    "def poly_feature(X, power):\n",
    "    for i in range(2, power+1):\n",
    "        X = np.insert(X, X.shape[1], np.power(X[:, 1], i), axis=1)\n",
    "    return X"
   ]
  },
  {
   "cell_type": "code",
   "execution_count": 20,
   "metadata": {},
   "outputs": [],
   "source": [
    "# 对多项式项进行归一化\n",
    "def get_means_stds(X):\n",
    "    means = np.mean(X, axis=0)\n",
    "    stds = np.std(X, axis=0)\n",
    "    return means, stds\n",
    "def feature_normalize(X, means, stds):\n",
    "    X[:, 1:] = (X[:, 1:] - means[1:]) / stds[1:]\n",
    "    return X"
   ]
  },
  {
   "cell_type": "code",
   "execution_count": 21,
   "metadata": {},
   "outputs": [],
   "source": [
    "power = 8"
   ]
  },
  {
   "cell_type": "code",
   "execution_count": 22,
   "metadata": {},
   "outputs": [],
   "source": [
    "X_train_poly = poly_feature(X_train, power)\n",
    "X_val_poly = poly_feature(X_val, power)\n",
    "X_test_poly = poly_feature(X_test, power)"
   ]
  },
  {
   "cell_type": "code",
   "execution_count": 23,
   "metadata": {},
   "outputs": [],
   "source": [
    "train_means, train_stds = get_means_stds(X_train_poly)"
   ]
  },
  {
   "cell_type": "code",
   "execution_count": 24,
   "metadata": {},
   "outputs": [],
   "source": [
    "X_train_norm = feature_normalize(X_train_poly, train_means, train_stds)\n",
    "X_val_norm = feature_normalize(X_val_poly, train_means, train_stds)\n",
    "X_test_norm = feature_normalize(X_test_poly, train_means, train_stds)"
   ]
  },
  {
   "cell_type": "code",
   "execution_count": 25,
   "metadata": {},
   "outputs": [
    {
     "data": {
      "text/plain": [
       "array([[ 1.00000000e+00, -3.78243704e-01, -7.88662325e-01,\n",
       "         1.90328720e-01, -7.37591303e-01,  3.20251970e-01,\n",
       "        -6.17151602e-01,  3.59835014e-01, -5.31091256e-01],\n",
       "       [ 1.00000000e+00, -8.38920100e-01,  1.31420204e-03,\n",
       "        -2.58961742e-01, -3.41564822e-01,  9.75492734e-02,\n",
       "        -4.55196644e-01,  2.66773432e-01, -4.68873807e-01],\n",
       "       [ 1.00000000e+00,  1.43871736e+00,  6.10831582e-01,\n",
       "         1.30534069e+00,  2.56220001e-01,  1.02186338e+00,\n",
       "        -1.26962121e-02,  7.90210009e-01, -1.77926980e-01]])"
      ]
     },
     "execution_count": 25,
     "metadata": {},
     "output_type": "execute_result"
    }
   ],
   "source": [
    "X_train_norm[:3, :]"
   ]
  },
  {
   "cell_type": "code",
   "execution_count": 26,
   "metadata": {},
   "outputs": [],
   "source": [
    "theta_fit = train_model(X_train_norm, y_train, _lambda=0)"
   ]
  },
  {
   "cell_type": "code",
   "execution_count": 27,
   "metadata": {},
   "outputs": [],
   "source": [
    "def plot_poly_fit():\n",
    "    plot_data()\n",
    "    \n",
    "    x = np.linspace(-60, 60, 100)\n",
    "    \n",
    "    xx = x.reshape(100, 1)\n",
    "    xx = np.insert(xx, 0, 1, axis=1)\n",
    "    xx = poly_feature(xx, power)\n",
    "    xx = feature_normalize(xx, train_means, train_stds)\n",
    "    \n",
    "    plt.plot(x, xx@theta_fit, 'r--')"
   ]
  },
  {
   "cell_type": "code",
   "execution_count": 28,
   "metadata": {},
   "outputs": [
    {
     "data": {
      "image/png": "[encoded data removed]",
      "text/plain": [
       "<Figure size 432x288 with 1 Axes>"
      ]
     },
     "metadata": {
      "needs_background": "light"
     },
     "output_type": "display_data"
    }
   ],
   "source": [
    "plot_poly_fit()   # 查看 lambda=0 时在训练集上拟合的情况"
   ]
  },
  {
   "cell_type": "code",
   "execution_count": 29,
   "metadata": {},
   "outputs": [
    {
     "data": {
      "image/png": "[encoded data removed]",
      "text/plain": [
       "<Figure size 432x288 with 1 Axes>"
      ]
     },
     "metadata": {
      "needs_background": "light"
     },
     "output_type": "display_data"
    }
   ],
   "source": [
    "plot_learning_curve(X_train_norm, y_train, X_val_norm, y_val, _lambda=100)"
   ]
  },
  {
   "cell_type": "markdown",
   "metadata": {},
   "source": [
    "$\\lambda$ 太大，欠拟合"
   ]
  },
  {
   "cell_type": "code",
   "execution_count": 30,
   "metadata": {},
   "outputs": [
    {
     "data": {
      "image/png": "[encoded data removed]",
      "text/plain": [
       "<Figure size 432x288 with 1 Axes>"
      ]
     },
     "metadata": {
      "needs_background": "light"
     },
     "output_type": "display_data"
    }
   ],
   "source": [
    "plot_learning_curve(X_train_norm, y_train, X_val_norm, y_val, _lambda=0.3)"
   ]
  },
  {
   "cell_type": "markdown",
   "metadata": {},
   "source": [
    "$\\lambda$ 太小，训练损失太小了，过拟合"
   ]
  },
  {
   "cell_type": "markdown",
   "metadata": {},
   "source": [
    "## lambda  的取值"
   ]
  },
  {
   "cell_type": "code",
   "execution_count": 31,
   "metadata": {},
   "outputs": [],
   "source": [
    "lambdas = [0, 0.001, 0.003, 0.01, 0.03, 0.1, 0.3, 1, 3, 10]\n",
    "\n",
    "training_cost = []\n",
    "cv_cost = []\n",
    "\n",
    "for _lambda in lambdas:\n",
    "    res = train_model(X_train_norm, y_train, _lambda)\n",
    "    \n",
    "    # 只计算损失，不进行梯度下降优化，所以把正则化项 _lambda 去掉\n",
    "    tc = reg_cost(res, X_train_norm, y_train, _lambda=0)\n",
    "    cv = reg_cost(res, X_val_norm, y_val, _lambda=0)\n",
    "    \n",
    "    training_cost.append(tc)\n",
    "    cv_cost.append(cv)\n"
   ]
  },
  {
   "cell_type": "code",
   "execution_count": 32,
   "metadata": {},
   "outputs": [
    {
     "data": {
      "image/png": "[encoded data removed]",
      "text/plain": [
       "<Figure size 432x288 with 1 Axes>"
      ]
     },
     "metadata": {
      "needs_background": "light"
     },
     "output_type": "display_data"
    }
   ],
   "source": [
    "plt.plot(lambdas, training_cost, label='training cost')\n",
    "plt.plot(lambdas, cv_cost, label='cv cost')\n",
    "plt.legend()\n",
    "\n",
    "plt.show()"
   ]
  },
  {
   "cell_type": "markdown",
   "metadata": {},
   "source": [
    "观察到，$\\lambda=3$，cv_cost 取最小值。"
   ]
  },
  {
   "cell_type": "code",
   "execution_count": 33,
   "metadata": {},
   "outputs": [
    {
     "data": {
      "text/plain": [
       "3"
      ]
     },
     "execution_count": 33,
     "metadata": {},
     "output_type": "execute_result"
    }
   ],
   "source": [
    "lambdas[np.argmin(cv_cost)]"
   ]
  },
  {
   "cell_type": "markdown",
   "metadata": {},
   "source": [
    "## 把 $\\lambda$ 应用到测试集上"
   ]
  },
  {
   "cell_type": "code",
   "execution_count": 34,
   "metadata": {},
   "outputs": [
    {
     "data": {
      "text/plain": [
       "3.572016932731608"
      ]
     },
     "execution_count": 34,
     "metadata": {},
     "output_type": "execute_result"
    }
   ],
   "source": [
    "res = train_model(X_train_norm, y_train, _lambda=3)\n",
    "test_cost = reg_cost(res, X_test_norm, y_test, _lambda=0)\n",
    "test_cost"
   ]
  }
 ],
 "metadata": {
  "kernelspec": {
   "display_name": "Python [conda env:root] *",
   "language": "python",
   "name": "conda-root-py"
  },
  "language_info": {
   "codemirror_mode": {
    "name": "ipython",
    "version": 3
   },
   "file_extension": ".py",
   "mimetype": "text/x-python",
   "name": "python",
   "nbconvert_exporter": "python",
   "pygments_lexer": "ipython3",
   "version": "3.7.6"
  }
 },
 "nbformat": 4,
 "nbformat_minor": 4
}
