{
 "cells": [
  {
   "cell_type": "code",
   "execution_count": 1,
   "metadata": {},
   "outputs": [],
   "source": [
    "import numpy as np\n",
    "import matplotlib.pyplot as plt\n",
    "from scipy.io import loadmat\n",
    "from scipy.optimize import minimize"
   ]
  },
  {
   "cell_type": "code",
   "execution_count": 2,
   "metadata": {},
   "outputs": [
    {
     "data": {
      "text/plain": [
       "dict_keys(['__header__', '__version__', '__globals__', 'X', 'y', 'Xtest', 'ytest', 'Xval', 'yval'])"
      ]
     },
     "execution_count": 2,
     "metadata": {},
     "output_type": "execute_result"
    }
   ],
   "source": [
    "data = loadmat('ex5data1.mat')\n",
    "data.keys()"
   ]
  },
  {
   "cell_type": "code",
   "execution_count": 3,
   "metadata": {},
   "outputs": [
    {
     "data": {
      "text/plain": [
       "((12, 1), (12, 1))"
      ]
     },
     "execution_count": 3,
     "metadata": {},
     "output_type": "execute_result"
    }
   ],
   "source": [
    "# 训练集\n",
    "X_train, y_train = data['X'], data['y']\n",
    "X_train.shape, y_train.shape"
   ]
  },
  {
   "cell_type": "code",
   "execution_count": 4,
   "metadata": {},
   "outputs": [
    {
     "data": {
      "text/plain": [
       "((21, 1), (21, 1))"
      ]
     },
     "execution_count": 4,
     "metadata": {},
     "output_type": "execute_result"
    }
   ],
   "source": [
    "# 验证集\n",
    "X_val, y_val = data['Xval'], data['yval']\n",
    "X_val.shape, y_val.shape"
   ]
  },
  {
   "cell_type": "code",
   "execution_count": 5,
   "metadata": {},
   "outputs": [
    {
     "data": {
      "text/plain": [
       "((21, 1), (21, 1))"
      ]
     },
     "execution_count": 5,
     "metadata": {},
     "output_type": "execute_result"
    }
   ],
   "source": [
    "# 测试集\n",
    "X_test, y_test = data['Xtest'], data['ytest']\n",
    "X_test.shape, y_test.shape"
   ]
  },
  {
   "cell_type": "code",
   "execution_count": 6,
   "metadata": {},
   "outputs": [
    {
     "data": {
      "text/plain": [
       "(array([[  1.        , -15.93675813],\n",
       "        [  1.        , -29.15297922],\n",
       "        [  1.        ,  36.18954863],\n",
       "        [  1.        ,  37.49218733],\n",
       "        [  1.        , -48.05882945],\n",
       "        [  1.        ,  -8.94145794],\n",
       "        [  1.        ,  15.30779289],\n",
       "        [  1.        , -34.70626581],\n",
       "        [  1.        ,   1.38915437],\n",
       "        [  1.        , -44.38375985],\n",
       "        [  1.        ,   7.01350208],\n",
       "        [  1.        ,  22.76274892]]),\n",
       " (12, 2))"
      ]
     },
     "execution_count": 6,
     "metadata": {},
     "output_type": "execute_result"
    }
   ],
   "source": [
    "X_train = np.insert(X_train, 0, 1, axis=1)\n",
    "X_val = np.insert(X_val, 0, 1, axis=1)\n",
    "X_test = np.insert(X_test, 0, 1, axis=1)\n",
    "X_train, X_train.shape"
   ]
  },
  {
   "cell_type": "code",
   "execution_count": 7,
   "metadata": {},
   "outputs": [],
   "source": [
    "def plot_data():\n",
    "    fig, ax = plt.subplots()\n",
    "    ax.scatter(X_train[:, 1], y_train)\n",
    "    ax.set(xlabel = 'change in water level(x)', \n",
    "          ylabel = 'water flowing out of the dam(y)')"
   ]
  },
  {
   "cell_type": "code",
   "execution_count": 8,
   "metadata": {},
   "outputs": [
    {
     "data": {
      "image/png": "[encoded data removed]",
      "text/plain": [
       "<Figure size 432x288 with 1 Axes>"
      ]
     },
     "metadata": {
      "needs_background": "light"
     },
     "output_type": "display_data"
    }
   ],
   "source": [
    "plot_data()"
   ]
  },
  {
   "cell_type": "markdown",
   "metadata": {},
   "source": [
    "损失函数：\n",
    "$$J(\\theta) = \\frac{1}{2m}\\bigg[\\sum^m_{i=1}(h_\\theta(x^{(i)})-y^{(i)})^2 + \\lambda\\sum^m_{j=1}\\theta^2_j\\bigg]$$\n",
    "损失函数向量化：\n",
    "$$J(\\theta) = \\frac{1}{2m}SUM((X@\\theta-y)^2)+\\frac{\\lambda}{2m}\\theta^2$$\n",
    "（$\\theta$的第一个参数不参与正则化）\n",
    "\n",
    "梯度：\n",
    "$$\\frac{\\partial J(\\theta)}{\\partial\\theta_j} = \\bigg(\\frac{1}{m}\\sum^m_{i=1}(h_\\theta(x^{(i)})-y^{(i)})x_j^{(i)} \\bigg)+\\frac{\\lambda}{m}\\theta_j$$\n",
    "梯度向量化：\n",
    "$$reg=\\frac{1}{m}(X@\\theta-y)@X+\\frac{\\lambda}{m}\\theta$$"
   ]
  },
  {
   "cell_type": "code",
   "execution_count": 10,
   "metadata": {},
   "outputs": [],
   "source": [
    "# 定义带正则化的损失函数\n",
    "def reg_cost(theta, X, y, _lambda):\n",
    "    cost = np.sum(np.power((X@theta - y.flatten()), 2))\n",
    "    reg = theta[1:]@theta[1:] * _lambda\n",
    "    return (cost + reg) / (2 * len(X))"
   ]
  },
  {
   "cell_type": "code",
   "execution_count": 14,
   "metadata": {},
   "outputs": [
    {
     "data": {
      "text/plain": [
       "303.9931922202643"
      ]
     },
     "execution_count": 14,
     "metadata": {},
     "output_type": "execute_result"
    }
   ],
   "source": [
    "# 看一下损失函数写对了没有\n",
    "theta = np.ones(X_train.shape[1])  # theta的个数是训练集的列数\n",
    "_lambda = 1\n",
    "reg_cost(theta, X_train, y_train, _lambda)"
   ]
  },
  {
   "cell_type": "code",
   "execution_count": 16,
   "metadata": {},
   "outputs": [
    {
     "data": {
      "text/plain": [
       "(array([1., 1.]), (2,))"
      ]
     },
     "execution_count": 16,
     "metadata": {},
     "output_type": "execute_result"
    }
   ],
   "source": [
    "theta, theta.shape"
   ]
  },
  {
   "cell_type": "code",
   "execution_count": 18,
   "metadata": {},
   "outputs": [],
   "source": [
    "# 定义带正则化的梯度函数\n",
    "def reg_gradient(theta, X, y, _lambda):\n",
    "    grad = (X@theta - y.flatten())@X\n",
    "    reg = _lambda * theta\n",
    "    reg[0] = 0  # 偏移项不参加正则化\n",
    "    return (grad + reg) / len(X)"
   ]
  },
  {
   "cell_type": "code",
   "execution_count": 19,
   "metadata": {},
   "outputs": [
    {
     "data": {
      "text/plain": [
       "array([-15.30301567, 598.25074417])"
      ]
     },
     "execution_count": 19,
     "metadata": {},
     "output_type": "execute_result"
    }
   ],
   "source": [
    "reg_gradient(theta, X_train, y_train, _lambda)"
   ]
  },
  {
   "cell_type": "code",
   "execution_count": 21,
   "metadata": {},
   "outputs": [],
   "source": [
    "# 定义训练模型的函数\n",
    "def train_model(X, y, _lambda):\n",
    "    theta = np.ones(X.shape[1])\n",
    "    \n",
    "    res = minimize(fun = reg_cost, \n",
    "                  x0 = theta, \n",
    "                  args = (X, y, _lambda), \n",
    "                  method = 'TNC', \n",
    "                  jac = reg_gradient)\n",
    "    \n",
    "    return res.x"
   ]
  },
  {
   "cell_type": "code",
   "execution_count": 22,
   "metadata": {},
   "outputs": [],
   "source": [
    "theta_final = train_model(X_train, y_train, _lambda=0) # 线性回归不会过拟合，先不设置 lambda"
   ]
  },
  {
   "cell_type": "code",
   "execution_count": 24,
   "metadata": {},
   "outputs": [
    {
     "data": {
      "image/png": "[encoded data removed]",
      "text/plain": [
       "<Figure size 432x288 with 1 Axes>"
      ]
     },
     "metadata": {
      "needs_background": "light"
     },
     "output_type": "display_data"
    }
   ],
   "source": [
    "plot_data()\n",
    "plt.plot(X_train[:, 1], X_train@theta_final, c='r')\n",
    "plt.show()"
   ]
  },
  {
   "cell_type": "code",
   "execution_count": null,
   "metadata": {},
   "outputs": [],
   "source": []
  }
 ],
 "metadata": {
  "kernelspec": {
   "display_name": "Python [conda env:root] *",
   "language": "python",
   "name": "conda-root-py"
  },
  "language_info": {
   "codemirror_mode": {
    "name": "ipython",
    "version": 3
   },
   "file_extension": ".py",
   "mimetype": "text/x-python",
   "name": "python",
   "nbconvert_exporter": "python",
   "pygments_lexer": "ipython3",
   "version": "3.7.6"
  }
 },
 "nbformat": 4,
 "nbformat_minor": 4
}
