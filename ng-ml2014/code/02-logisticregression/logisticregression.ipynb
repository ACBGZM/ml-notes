{
 "cells": [
  {
   "cell_type": "markdown",
   "metadata": {},
   "source": [
    "# 逻辑回归\n",
    "\n",
    "本章只涉及二分类问题。下章的作业是多分类问题。\n",
    "\n",
    "## 1. 线性可分\n",
    "\n",
    "根据学生的两门课成绩，预测该学生是否会被录取。"
   ]
  },
  {
   "cell_type": "code",
   "execution_count": 1,
   "metadata": {},
   "outputs": [],
   "source": [
    "import numpy as np\n",
    "import pandas as pd\n",
    "import matplotlib.pyplot as plt"
   ]
  },
  {
   "cell_type": "code",
   "execution_count": 2,
   "metadata": {
    "scrolled": true
   },
   "outputs": [
    {
     "data": {
      "text/html": [
       "<div>\n",
       "<style scoped>\n",
       "    .dataframe tbody tr th:only-of-type {\n",
       "        vertical-align: middle;\n",
       "    }\n",
       "\n",
       "    .dataframe tbody tr th {\n",
       "        vertical-align: top;\n",
       "    }\n",
       "\n",
       "    .dataframe thead th {\n",
       "        text-align: right;\n",
       "    }\n",
       "</style>\n",
       "<table border=\"1\" class=\"dataframe\">\n",
       "  <thead>\n",
       "    <tr style=\"text-align: right;\">\n",
       "      <th></th>\n",
       "      <th>exam1</th>\n",
       "      <th>exam2</th>\n",
       "      <th>accepted</th>\n",
       "    </tr>\n",
       "  </thead>\n",
       "  <tbody>\n",
       "    <tr>\n",
       "      <th>0</th>\n",
       "      <td>34.623660</td>\n",
       "      <td>78.024693</td>\n",
       "      <td>0</td>\n",
       "    </tr>\n",
       "    <tr>\n",
       "      <th>1</th>\n",
       "      <td>30.286711</td>\n",
       "      <td>43.894998</td>\n",
       "      <td>0</td>\n",
       "    </tr>\n",
       "    <tr>\n",
       "      <th>2</th>\n",
       "      <td>35.847409</td>\n",
       "      <td>72.902198</td>\n",
       "      <td>0</td>\n",
       "    </tr>\n",
       "    <tr>\n",
       "      <th>3</th>\n",
       "      <td>60.182599</td>\n",
       "      <td>86.308552</td>\n",
       "      <td>1</td>\n",
       "    </tr>\n",
       "    <tr>\n",
       "      <th>4</th>\n",
       "      <td>79.032736</td>\n",
       "      <td>75.344376</td>\n",
       "      <td>1</td>\n",
       "    </tr>\n",
       "  </tbody>\n",
       "</table>\n",
       "</div>"
      ],
      "text/plain": [
       "       exam1      exam2  accepted\n",
       "0  34.623660  78.024693         0\n",
       "1  30.286711  43.894998         0\n",
       "2  35.847409  72.902198         0\n",
       "3  60.182599  86.308552         1\n",
       "4  79.032736  75.344376         1"
      ]
     },
     "execution_count": 2,
     "metadata": {},
     "output_type": "execute_result"
    }
   ],
   "source": [
    "path = 'ex2data1.txt'\n",
    "data = pd.read_csv(path, names=['exam1', 'exam2', 'accepted'])\n",
    "data.head()"
   ]
  },
  {
   "cell_type": "code",
   "execution_count": 3,
   "metadata": {},
   "outputs": [
    {
     "data": {
      "image/png": "[encoded data removed]",
      "text/plain": [
       "<Figure size 432x288 with 1 Axes>"
      ]
     },
     "metadata": {
      "needs_background": "light"
     },
     "output_type": "display_data"
    }
   ],
   "source": [
    "fig, ax = plt.subplots()\n",
    "\n",
    "ax.scatter(data[data['accepted']==0]['exam1'], data[data['accepted']==0]['exam2'],\n",
    "           c='r', marker='x', label='y=0')    # accepted = 0 的点的绘制\n",
    "ax.scatter(data[data['accepted']==1]['exam1'], data[data['accepted']==1]['exam2'],\n",
    "           c='b', marker='o', label='y=1')    # accepted = 1 的点的绘制\n",
    "\n",
    "ax.legend()\n",
    "ax.set(xlabel='exam1', ylabel='exam2')\n",
    "\n",
    "plt.show()"
   ]
  },
  {
   "cell_type": "code",
   "execution_count": 4,
   "metadata": {},
   "outputs": [],
   "source": [
    "# 把从DataFrame到数据集数组封装成了函数\n",
    "def getXy(data):\n",
    "    data.insert(0, 'ones', 1)\n",
    "    \n",
    "    X_ = data.iloc[:, 0:-1]\n",
    "    y_ = data.iloc[:, -1]\n",
    "    \n",
    "    X = X_.values\n",
    "    y = y_.values\n",
    "    \n",
    "    y = y.reshape(len(y), 1)\n",
    "    \n",
    "    return X, y"
   ]
  },
  {
   "cell_type": "code",
   "execution_count": 5,
   "metadata": {},
   "outputs": [
    {
     "data": {
      "text/plain": [
       "((100, 3), (100, 1))"
      ]
     },
     "execution_count": 5,
     "metadata": {},
     "output_type": "execute_result"
    }
   ],
   "source": [
    "X, y = getXy(data)\n",
    "X.shape, y.shape"
   ]
  },
  {
   "cell_type": "markdown",
   "metadata": {},
   "source": [
    "**损失函数**\n",
    "\n",
    "g 代表一个常用的逻辑函数（logistic function）为S形函数（Sigmoid function），公式为： \\\\[g\\left( z \\right)=\\frac{1}{1+{{e}^{-z}}}\\\\] \n",
    "$$h = g(X\\theta)$$\n",
    "合起来，我们得到逻辑回归模型的h函数： \n",
    "\t\\\\[{{h}_{\\theta }}\\left( x \\right)=\\frac{1}{1+{{e}^{-{X{\\theta}}}}}\\\\] \n",
    "损失函数：$$J(\\theta) = -\\frac{1}{m}[y*\\log(h)+(1-y)*\\log(1-h)]$$\n",
    "\n",
    "维度：X(m, n), y(m, 1), $\\theta$(n, 1)"
   ]
  },
  {
   "cell_type": "code",
   "execution_count": 6,
   "metadata": {},
   "outputs": [],
   "source": [
    "def sigmoid(z):\n",
    "    return 1 / (1 + np.exp(-z))"
   ]
  },
  {
   "cell_type": "code",
   "execution_count": 7,
   "metadata": {},
   "outputs": [],
   "source": [
    "def costFunction(X, y, theta):\n",
    "    A = sigmoid(X @ theta)   # 矩阵乘法，A(m, 1)\n",
    "    \n",
    "    first = y * np.log(A)    # 对应元素相乘，两个矩阵都是 (m, 1)\n",
    "    second = (1 - y) * np.log(1 - A)\n",
    "    \n",
    "    return -np.sum(first + second) / len(X)    # first 和 second 都是向量，此处要求和，计算总的损失"
   ]
  },
  {
   "cell_type": "code",
   "execution_count": 8,
   "metadata": {},
   "outputs": [
    {
     "data": {
      "text/plain": [
       "((100, 3), (100, 1), (3, 1))"
      ]
     },
     "execution_count": 8,
     "metadata": {},
     "output_type": "execute_result"
    }
   ],
   "source": [
    "theta = np.zeros((3, 1))\n",
    "X.shape, y.shape, theta.shape"
   ]
  },
  {
   "cell_type": "code",
   "execution_count": 9,
   "metadata": {},
   "outputs": [
    {
     "name": "stdout",
     "output_type": "stream",
     "text": [
      "0.6931471805599453\n"
     ]
    }
   ],
   "source": [
    "cost_init = costFunction(X, y, theta)\n",
    "print(cost_init)"
   ]
  },
  {
   "cell_type": "markdown",
   "metadata": {},
   "source": [
    "**梯度下降**\n",
    "$$\\theta = \\theta - \\frac{a}{m}*X^T(g(X\\theta)-y)$$\n",
    "向量化的形式，跟线性回归的区别只有 $g(X\\theta)$"
   ]
  },
  {
   "cell_type": "code",
   "execution_count": 10,
   "metadata": {},
   "outputs": [],
   "source": [
    "def gradientDescent(X, y, theta, iters, alpha, isPrint=False):\n",
    "    m = len(X)\n",
    "    costs = []\n",
    "    \n",
    "    for i in range(iters):\n",
    "        A = sigmoid(X @ theta)\n",
    "        theta = theta - (alpha / m) * X.T @ (A - y)\n",
    "        cost = costFunction(X, y, theta)\n",
    "        costs.append(cost)\n",
    "        if i % 1000 == 0:\n",
    "            if isPrint:\n",
    "                print(cost)\n",
    "            \n",
    "    return costs, theta"
   ]
  },
  {
   "cell_type": "code",
   "execution_count": 11,
   "metadata": {
    "scrolled": false
   },
   "outputs": [
    {
     "name": "stdout",
     "output_type": "stream",
     "text": [
      "1.9886538578930084\n",
      "3.0781700198641557\n",
      "5.487009635362496\n",
      "1.8519433661332647\n",
      "2.955128942408359\n",
      "5.438688730769618\n",
      "1.8046128090728513\n",
      "2.8312715776074056\n",
      "5.3886531633606145\n",
      "1.756153811712156\n",
      "2.7066763807478127\n",
      "5.3365673644957425\n",
      "1.7062807047694801\n",
      "2.5818508519054273\n",
      "5.281774101800353\n",
      "1.6544129958512053\n",
      "2.457843094743575\n",
      "5.223255119969365\n",
      "1.5996612097145546\n",
      "2.3362477519414626\n",
      "5.159653459570274\n",
      "1.5408871901849082\n",
      "2.2190492038468888\n",
      "5.089387088751128\n",
      "1.4768567851081469\n",
      "2.1082685090536497\n",
      "5.010845104587983\n",
      "1.4064493632805855\n",
      "2.005433890383271\n",
      "4.9225734611717336\n",
      "1.3288041261254437\n",
      "1.9109646054893665\n",
      "4.82325748482661\n",
      "1.243220225097169\n",
      "1.8235866121521405\n",
      "4.711246821296763\n",
      "1.1486277932139568\n",
      "1.7397667362447993\n",
      "4.5832574004573505\n",
      "1.0423478306006684\n",
      "1.6525865746034032\n",
      "4.430932868329269\n",
      "0.9166267386002196\n",
      "1.5465331276550862\n",
      "4.224624720512682\n",
      "0.7330944584991168\n",
      "1.453494463115446\n",
      "3.6099185491269976\n",
      "3.831606666839808\n",
      "1.1718258712790515\n",
      "0.334478044895226\n",
      "1.6078416216802416\n",
      "0.741586759654691\n",
      "0.2714117345847905\n",
      "0.290143802314594\n",
      "1.0411159360088698\n",
      "1.0035437548762511\n",
      "2.619923350300235\n",
      "0.4061670429886676\n",
      "0.23344465659929914\n",
      "0.8401579263488419\n",
      "0.8583964468903994\n",
      "3.0602809825499433\n",
      "0.44028140659651727\n",
      "1.1932722349525562\n",
      "0.3319285599259916\n",
      "0.6585288447640747\n",
      "0.2256714393042239\n",
      "0.2246388216235459\n",
      "0.229265281744285\n",
      "0.9593734096464135\n",
      "0.3806079592039256\n",
      "0.8813259971860016\n",
      "0.3987569824429813\n",
      "0.6247983316121748\n",
      "0.37618942490964374\n",
      "0.8942246128978614\n",
      "0.5866355115668503\n",
      "0.3331866481479848\n",
      "0.4640252095454867\n",
      "0.3227041012186722\n",
      "0.32679537880565435\n",
      "0.33920551463995274\n",
      "0.3580349467069087\n",
      "0.38389202570477393\n",
      "0.3934979937715527\n",
      "0.404032133031205\n",
      "0.41566590307234974\n",
      "0.4286326567037246\n",
      "0.4432663747005132\n",
      "0.46007956427143226\n",
      "0.47994390052991037\n",
      "0.5046108693774396\n",
      "0.5389098950879739\n",
      "0.5948362367310513\n",
      "0.5970713512726188\n",
      "0.5951313959593297\n",
      "0.5930756777777983\n",
      "0.5909040798701036\n",
      "0.5886168792812143\n",
      "0.5862147537785243\n",
      "0.5836987849027259\n",
      "0.5810704568187244\n",
      "0.57833165060292\n",
      "0.5754846337053956\n",
      "0.5725320444545265\n",
      "0.5694768716228488\n",
      "0.5663224292391327\n",
      "0.5630723270041207\n",
      "0.5597304368352704\n",
      "0.5563008562186095\n",
      "0.5527878691726752\n",
      "0.549195905721886\n",
      "0.5455295008280934\n",
      "0.5417932537360381\n",
      "0.5379917886514616\n",
      "0.5341297175929154\n",
      "0.5302116061463411\n",
      "0.5262419427137628\n",
      "0.5222251116937398\n",
      "0.5181653708713927\n",
      "0.514066833139401\n",
      "0.5099334525262611\n",
      "0.5057690143806173\n",
      "0.5015771294546336\n",
      "0.49736123154759904\n",
      "0.49312457831320317\n",
      "0.48887025479930346\n",
      "0.4846011792751417\n",
      "0.4803201109045665\n",
      "0.47602965884191434\n",
      "0.47173229235591874\n",
      "0.4674303516233986\n",
      "0.4631260588754717\n",
      "0.4588215296220772\n",
      "0.4545187837238073\n",
      "0.4502197561219549\n",
      "0.4459263070766816\n",
      "0.44164023179929257\n",
      "0.43736326939646203\n",
      "0.43309711107262444\n",
      "0.4288434075604479\n",
      "0.42460377576964453\n",
      "0.4203798046607428\n",
      "0.4161730603631857\n",
      "0.411985090566997\n",
      "0.4078174282239081\n",
      "0.4036715945982533\n",
      "0.39954910170975255\n",
      "0.39545145421033845\n",
      "0.39138015073568366\n",
      "0.3873366847688022\n",
      "0.3833225450494014\n",
      "0.3793392155575824\n",
      "0.37538817509544486\n",
      "0.3714708964847359\n",
      "0.36758884539357006\n",
      "0.36374347880051117\n",
      "0.35993624310049865\n",
      "0.35616857185416656\n",
      "0.3524418831806119\n",
      "0.34875757679357894\n",
      "0.3451170306826761\n",
      "0.34152159744457544\n",
      "0.33797260027424075\n",
      "0.33447132863304374\n",
      "0.33101903361885787\n",
      "0.32761692307292734\n",
      "0.3242661564685019\n",
      "0.32096783963724784\n",
      "0.31772301939998754\n",
      "0.3145326781784118\n",
      "0.3113977286730317\n",
      "0.3083190086993832\n",
      "0.3052972762788476\n",
      "0.3023332050818348\n",
      "0.2994273803192914\n",
      "0.29658029517346557\n",
      "0.29379234785020975\n",
      "0.29106383932364577\n",
      "0.2883949718298337\n",
      "0.28578584814943686\n",
      "0.28323647170161176\n",
      "0.28074674745268746\n",
      "0.27831648362467415\n",
      "0.27594539417064434\n",
      "0.2736331019684059\n",
      "0.2713791426689612\n",
      "0.269182969125549\n",
      "0.26704395631966116\n",
      "0.26496140669529517\n",
      "0.26293455580936287\n",
      "0.26096257820670443\n",
      "0.2590445934304145\n",
      "0.2571796720827234\n",
      "0.2553668418586548\n",
      "0.2536050934817517\n",
      "0.2518933864804352\n",
      "0.25023065475220585\n",
      "0.24861581187269194\n"
     ]
    },
    {
     "data": {
      "image/png": "[encoded data removed]",
      "text/plain": [
       "<Figure size 720x432 with 1 Axes>"
      ]
     },
     "metadata": {
      "needs_background": "light"
     },
     "output_type": "display_data"
    },
    {
     "data": {
      "text/plain": [
       "array([[-23.77445621],\n",
       "       [  0.20684474],\n",
       "       [  0.19996049]])"
      ]
     },
     "execution_count": 11,
     "metadata": {},
     "output_type": "execute_result"
    }
   ],
   "source": [
    "theta_ = theta\n",
    "alpha = 0.004\n",
    "iters = 200000\n",
    "\n",
    "costs, theta_final = gradientDescent(X, y, theta, iters, alpha, isPrint=True)\n",
    "\n",
    "fig, ax = plt.subplots(figsize=(10,6))\n",
    "ax.plot(np.arange(iters), costs, label=alpha)\n",
    "ax.set(xlabel='iters', ylabel='cost', title='cost vs iters')\n",
    "plt.show()\n",
    "\n",
    "theta_final"
   ]
  },
  {
   "cell_type": "markdown",
   "metadata": {},
   "source": [
    "可以调用SciPy's truncated newton（TNC）寻找最优参数。\n",
    "\n",
    "我用自己的 costFunction 和 gradientDescent 就报错，查了可能是 scipy 版本太高，但我没有降级成功。\n",
    "\n",
    "可以确定的是跟 cost 和 gradient 的参数相关。把参数顺序改为 X, y, theta 就会报错。\n",
    "\n",
    "func是要最小化的函数，x0是最小化函数的自变量，fprime是最小化的方法，args是func的除theta外的"
   ]
  },
  {
   "cell_type": "code",
   "execution_count": 12,
   "metadata": {},
   "outputs": [],
   "source": [
    "def cost(theta, X, y):\n",
    "    theta = np.matrix(theta)\n",
    "    X = np.matrix(X)\n",
    "    y = np.matrix(y)\n",
    "    first = np.multiply(-y, np.log(sigmoid(X * theta.T)))\n",
    "    second = np.multiply((1 - y), np.log(1 - sigmoid(X * theta.T)))\n",
    "    return np.sum(first - second) / (len(X))\n",
    "def gradient(theta, X, y):\n",
    "    theta = np.matrix(theta)\n",
    "    X = np.matrix(X)\n",
    "    y = np.matrix(y)\n",
    "    \n",
    "    parameters = int(theta.ravel().shape[1])\n",
    "    grad = np.zeros(parameters)\n",
    "    \n",
    "    error = sigmoid(X * theta.T) - y\n",
    "    \n",
    "    for i in range(parameters):\n",
    "        term = np.multiply(error, X[:,i])\n",
    "        grad[i] = np.sum(term) / len(X)\n",
    "    \n",
    "    return grad"
   ]
  },
  {
   "cell_type": "code",
   "execution_count": 13,
   "metadata": {},
   "outputs": [
    {
     "data": {
      "text/plain": [
       "(array([-25.16131872,   0.20623159,   0.20147149]), 36, 0)"
      ]
     },
     "execution_count": 13,
     "metadata": {},
     "output_type": "execute_result"
    }
   ],
   "source": [
    "import scipy.optimize as opt\n",
    "result_tnc = opt.fmin_tnc(func=cost, x0=theta, fprime=gradient, args=(X, y))\n",
    "result_tnc"
   ]
  },
  {
   "cell_type": "code",
   "execution_count": 14,
   "metadata": {},
   "outputs": [
    {
     "data": {
      "text/plain": [
       "(0.20349770158947425, 0.25828663625209186)"
      ]
     },
     "execution_count": 14,
     "metadata": {},
     "output_type": "execute_result"
    }
   ],
   "source": [
    "cost(result_tnc[0], X, y), costFunction(X, y, theta_final)"
   ]
  },
  {
   "cell_type": "markdown",
   "metadata": {},
   "source": [
    "接下来，我们需要编写一个函数，用我们所学的参数theta来为数据集X输出预测。然后，我们可以使用这个函数来给我们的分类器的训练精度打分。\n",
    "逻辑回归模型的假设函数： \n",
    "\t\\\\[{{h}_{\\theta }}\\left( x \\right)=\\frac{1}{1+{{e}^{-X{{\\theta }}}}}\\\\] \n",
    "当${{h}_{\\theta }}$大于等于0.5时，预测 y=1\n",
    "\n",
    "当${{h}_{\\theta }}$小于0.5时，预测 y=0 。"
   ]
  },
  {
   "cell_type": "code",
   "execution_count": 15,
   "metadata": {},
   "outputs": [],
   "source": [
    "# 返回一个 (m, 1) 的矩阵，由 0 和 1 构成\n",
    "def predict(X, theta):\n",
    "    prob = sigmoid(X @ theta)\n",
    "    return [1 if x >= 0.5 else 0 for x in prob]"
   ]
  },
  {
   "cell_type": "code",
   "execution_count": 16,
   "metadata": {},
   "outputs": [
    {
     "name": "stdout",
     "output_type": "stream",
     "text": [
      "0.91\n"
     ]
    }
   ],
   "source": [
    "y_predict = np.array(predict(X, theta_final))\n",
    "y_predict = y_predict.reshape(len(y_predict), 1)\n",
    "\n",
    "acc = np.mean(y_predict == y)\n",
    "\n",
    "print(acc)"
   ]
  },
  {
   "cell_type": "code",
   "execution_count": 17,
   "metadata": {},
   "outputs": [
    {
     "name": "stdout",
     "output_type": "stream",
     "text": [
      "0.89\n"
     ]
    }
   ],
   "source": [
    "y_predict2 = np.array(predict(X, result_tnc[0]))\n",
    "y_predict2 = y_predict2.reshape(len(y_predict2), 1)\n",
    "\n",
    "acc2 = np.mean(y_predict2 == y)\n",
    "\n",
    "print(acc2)"
   ]
  },
  {
   "cell_type": "markdown",
   "metadata": {},
   "source": [
    "**决策边界**\n",
    "\n",
    "$$X\\theta = 0$$\n",
    "$$\\theta_0 + \\theta_1x_1 + \\theta_2x_2 = 0$$\n",
    "$$x_2 = -\\frac{\\theta_0}{\\theta_2} - \\frac{\\theta_1}{\\theta_2}x_1$$"
   ]
  },
  {
   "cell_type": "code",
   "execution_count": 18,
   "metadata": {},
   "outputs": [],
   "source": [
    "coef1 = -theta_final[0, 0] / theta_final[2, 0]\n",
    "coef2 = -theta_final[1, 0] / theta_final[2, 0]"
   ]
  },
  {
   "cell_type": "code",
   "execution_count": 19,
   "metadata": {},
   "outputs": [
    {
     "data": {
      "image/png": "[encoded data removed]",
      "text/plain": [
       "<Figure size 432x288 with 1 Axes>"
      ]
     },
     "metadata": {
      "needs_background": "light"
     },
     "output_type": "display_data"
    }
   ],
   "source": [
    "x = np.linspace(20, 100, 100)\n",
    "f = coef1 + coef2 * x\n",
    "\n",
    "fig, ax = plt.subplots()\n",
    "\n",
    "ax.scatter(data[data['accepted']==0]['exam1'], data[data['accepted']==0]['exam2'],\n",
    "           c='r', marker='x', label='y=0')    # accepted = 0 的点的绘制\n",
    "ax.scatter(data[data['accepted']==1]['exam1'], data[data['accepted']==1]['exam2'],\n",
    "           c='b', marker='o', label='y=1')    # accepted = 1 的点的绘制\n",
    "\n",
    "ax.legend()\n",
    "ax.set(xlabel='exam1', ylabel='exam2')\n",
    "\n",
    "ax.plot(x, f, c='g')    # 决策边界，直线的绘制\n",
    "plt.show()"
   ]
  },
  {
   "cell_type": "markdown",
   "metadata": {},
   "source": [
    "## 2. 线性不可分\n",
    "\n",
    "根据芯片的两次检测结果，决定芯片要被接受还是抛弃。"
   ]
  },
  {
   "cell_type": "code",
   "execution_count": 20,
   "metadata": {},
   "outputs": [
    {
     "data": {
      "text/html": [
       "<div>\n",
       "<style scoped>\n",
       "    .dataframe tbody tr th:only-of-type {\n",
       "        vertical-align: middle;\n",
       "    }\n",
       "\n",
       "    .dataframe tbody tr th {\n",
       "        vertical-align: top;\n",
       "    }\n",
       "\n",
       "    .dataframe thead th {\n",
       "        text-align: right;\n",
       "    }\n",
       "</style>\n",
       "<table border=\"1\" class=\"dataframe\">\n",
       "  <thead>\n",
       "    <tr style=\"text-align: right;\">\n",
       "      <th></th>\n",
       "      <th>test1</th>\n",
       "      <th>test2</th>\n",
       "      <th>accepted</th>\n",
       "    </tr>\n",
       "  </thead>\n",
       "  <tbody>\n",
       "    <tr>\n",
       "      <th>0</th>\n",
       "      <td>0.051267</td>\n",
       "      <td>0.69956</td>\n",
       "      <td>1</td>\n",
       "    </tr>\n",
       "    <tr>\n",
       "      <th>1</th>\n",
       "      <td>-0.092742</td>\n",
       "      <td>0.68494</td>\n",
       "      <td>1</td>\n",
       "    </tr>\n",
       "    <tr>\n",
       "      <th>2</th>\n",
       "      <td>-0.213710</td>\n",
       "      <td>0.69225</td>\n",
       "      <td>1</td>\n",
       "    </tr>\n",
       "    <tr>\n",
       "      <th>3</th>\n",
       "      <td>-0.375000</td>\n",
       "      <td>0.50219</td>\n",
       "      <td>1</td>\n",
       "    </tr>\n",
       "    <tr>\n",
       "      <th>4</th>\n",
       "      <td>-0.513250</td>\n",
       "      <td>0.46564</td>\n",
       "      <td>1</td>\n",
       "    </tr>\n",
       "  </tbody>\n",
       "</table>\n",
       "</div>"
      ],
      "text/plain": [
       "      test1    test2  accepted\n",
       "0  0.051267  0.69956         1\n",
       "1 -0.092742  0.68494         1\n",
       "2 -0.213710  0.69225         1\n",
       "3 -0.375000  0.50219         1\n",
       "4 -0.513250  0.46564         1"
      ]
     },
     "execution_count": 20,
     "metadata": {},
     "output_type": "execute_result"
    }
   ],
   "source": [
    "path = 'ex2data2.txt'\n",
    "data = pd.read_csv(path, names=['test1', 'test2', 'accepted'])\n",
    "data.head()"
   ]
  },
  {
   "cell_type": "code",
   "execution_count": 21,
   "metadata": {},
   "outputs": [
    {
     "data": {
      "image/png": "[encoded data removed]",
      "text/plain": [
       "<Figure size 432x288 with 1 Axes>"
      ]
     },
     "metadata": {
      "needs_background": "light"
     },
     "output_type": "display_data"
    }
   ],
   "source": [
    "fig, ax = plt.subplots()\n",
    "\n",
    "ax.scatter(data[data['accepted']==0]['test1'], data[data['accepted']==0]['test2'],\n",
    "           c='r', marker='x', label='y=0')    # accepted = 0 的点的绘制\n",
    "ax.scatter(data[data['accepted']==1]['test1'], data[data['accepted']==1]['test2'],\n",
    "           c='b', marker='o', label='y=1')    # accepted = 1 的点的绘制\n",
    "\n",
    "ax.legend()\n",
    "ax.set(xlabel='test1', ylabel='test2')\n",
    "\n",
    "plt.show()"
   ]
  },
  {
   "cell_type": "markdown",
   "metadata": {},
   "source": [
    "**特征映射**\n",
    "\n",
    "用高次项拟合非线性的图像。\n",
    "\n",
    "如 power = 2，则有 1、x1、x2、x1x2、x1^2、x2^2 六项。\n",
    "\n",
    "这里取 power = 6，有 28 项。也就是模型有 28 个特征。"
   ]
  },
  {
   "cell_type": "code",
   "execution_count": 22,
   "metadata": {},
   "outputs": [],
   "source": [
    "def featureMapping(x1, x2, power):\n",
    "    data = {}\n",
    "    for i in np.arange(power + 1):\n",
    "        for j in np.arange(i + 1):\n",
    "            data['F{}{}'.format(i - j, j)] = np.power(x1, i - j) * np.power(x2, j)         \n",
    "    return pd.DataFrame(data)"
   ]
  },
  {
   "cell_type": "code",
   "execution_count": 23,
   "metadata": {},
   "outputs": [
    {
     "data": {
      "text/html": [
       "<div>\n",
       "<style scoped>\n",
       "    .dataframe tbody tr th:only-of-type {\n",
       "        vertical-align: middle;\n",
       "    }\n",
       "\n",
       "    .dataframe tbody tr th {\n",
       "        vertical-align: top;\n",
       "    }\n",
       "\n",
       "    .dataframe thead th {\n",
       "        text-align: right;\n",
       "    }\n",
       "</style>\n",
       "<table border=\"1\" class=\"dataframe\">\n",
       "  <thead>\n",
       "    <tr style=\"text-align: right;\">\n",
       "      <th></th>\n",
       "      <th>F00</th>\n",
       "      <th>F10</th>\n",
       "      <th>F01</th>\n",
       "      <th>F20</th>\n",
       "      <th>F11</th>\n",
       "      <th>F02</th>\n",
       "      <th>F30</th>\n",
       "      <th>F21</th>\n",
       "      <th>F12</th>\n",
       "      <th>F03</th>\n",
       "      <th>...</th>\n",
       "      <th>F23</th>\n",
       "      <th>F14</th>\n",
       "      <th>F05</th>\n",
       "      <th>F60</th>\n",
       "      <th>F51</th>\n",
       "      <th>F42</th>\n",
       "      <th>F33</th>\n",
       "      <th>F24</th>\n",
       "      <th>F15</th>\n",
       "      <th>F06</th>\n",
       "    </tr>\n",
       "  </thead>\n",
       "  <tbody>\n",
       "    <tr>\n",
       "      <th>0</th>\n",
       "      <td>1.0</td>\n",
       "      <td>0.051267</td>\n",
       "      <td>0.69956</td>\n",
       "      <td>0.002628</td>\n",
       "      <td>0.035864</td>\n",
       "      <td>0.489384</td>\n",
       "      <td>0.000135</td>\n",
       "      <td>0.001839</td>\n",
       "      <td>0.025089</td>\n",
       "      <td>0.342354</td>\n",
       "      <td>...</td>\n",
       "      <td>0.000900</td>\n",
       "      <td>0.012278</td>\n",
       "      <td>0.167542</td>\n",
       "      <td>1.815630e-08</td>\n",
       "      <td>2.477505e-07</td>\n",
       "      <td>0.000003</td>\n",
       "      <td>0.000046</td>\n",
       "      <td>0.000629</td>\n",
       "      <td>0.008589</td>\n",
       "      <td>0.117206</td>\n",
       "    </tr>\n",
       "    <tr>\n",
       "      <th>1</th>\n",
       "      <td>1.0</td>\n",
       "      <td>-0.092742</td>\n",
       "      <td>0.68494</td>\n",
       "      <td>0.008601</td>\n",
       "      <td>-0.063523</td>\n",
       "      <td>0.469143</td>\n",
       "      <td>-0.000798</td>\n",
       "      <td>0.005891</td>\n",
       "      <td>-0.043509</td>\n",
       "      <td>0.321335</td>\n",
       "      <td>...</td>\n",
       "      <td>0.002764</td>\n",
       "      <td>-0.020412</td>\n",
       "      <td>0.150752</td>\n",
       "      <td>6.362953e-07</td>\n",
       "      <td>-4.699318e-06</td>\n",
       "      <td>0.000035</td>\n",
       "      <td>-0.000256</td>\n",
       "      <td>0.001893</td>\n",
       "      <td>-0.013981</td>\n",
       "      <td>0.103256</td>\n",
       "    </tr>\n",
       "    <tr>\n",
       "      <th>2</th>\n",
       "      <td>1.0</td>\n",
       "      <td>-0.213710</td>\n",
       "      <td>0.69225</td>\n",
       "      <td>0.045672</td>\n",
       "      <td>-0.147941</td>\n",
       "      <td>0.479210</td>\n",
       "      <td>-0.009761</td>\n",
       "      <td>0.031616</td>\n",
       "      <td>-0.102412</td>\n",
       "      <td>0.331733</td>\n",
       "      <td>...</td>\n",
       "      <td>0.015151</td>\n",
       "      <td>-0.049077</td>\n",
       "      <td>0.158970</td>\n",
       "      <td>9.526844e-05</td>\n",
       "      <td>-3.085938e-04</td>\n",
       "      <td>0.001000</td>\n",
       "      <td>-0.003238</td>\n",
       "      <td>0.010488</td>\n",
       "      <td>-0.033973</td>\n",
       "      <td>0.110047</td>\n",
       "    </tr>\n",
       "    <tr>\n",
       "      <th>3</th>\n",
       "      <td>1.0</td>\n",
       "      <td>-0.375000</td>\n",
       "      <td>0.50219</td>\n",
       "      <td>0.140625</td>\n",
       "      <td>-0.188321</td>\n",
       "      <td>0.252195</td>\n",
       "      <td>-0.052734</td>\n",
       "      <td>0.070620</td>\n",
       "      <td>-0.094573</td>\n",
       "      <td>0.126650</td>\n",
       "      <td>...</td>\n",
       "      <td>0.017810</td>\n",
       "      <td>-0.023851</td>\n",
       "      <td>0.031940</td>\n",
       "      <td>2.780914e-03</td>\n",
       "      <td>-3.724126e-03</td>\n",
       "      <td>0.004987</td>\n",
       "      <td>-0.006679</td>\n",
       "      <td>0.008944</td>\n",
       "      <td>-0.011978</td>\n",
       "      <td>0.016040</td>\n",
       "    </tr>\n",
       "    <tr>\n",
       "      <th>4</th>\n",
       "      <td>1.0</td>\n",
       "      <td>-0.513250</td>\n",
       "      <td>0.46564</td>\n",
       "      <td>0.263426</td>\n",
       "      <td>-0.238990</td>\n",
       "      <td>0.216821</td>\n",
       "      <td>-0.135203</td>\n",
       "      <td>0.122661</td>\n",
       "      <td>-0.111283</td>\n",
       "      <td>0.100960</td>\n",
       "      <td>...</td>\n",
       "      <td>0.026596</td>\n",
       "      <td>-0.024128</td>\n",
       "      <td>0.021890</td>\n",
       "      <td>1.827990e-02</td>\n",
       "      <td>-1.658422e-02</td>\n",
       "      <td>0.015046</td>\n",
       "      <td>-0.013650</td>\n",
       "      <td>0.012384</td>\n",
       "      <td>-0.011235</td>\n",
       "      <td>0.010193</td>\n",
       "    </tr>\n",
       "  </tbody>\n",
       "</table>\n",
       "<p>5 rows × 28 columns</p>\n",
       "</div>"
      ],
      "text/plain": [
       "   F00       F10      F01       F20       F11       F02       F30       F21  \\\n",
       "0  1.0  0.051267  0.69956  0.002628  0.035864  0.489384  0.000135  0.001839   \n",
       "1  1.0 -0.092742  0.68494  0.008601 -0.063523  0.469143 -0.000798  0.005891   \n",
       "2  1.0 -0.213710  0.69225  0.045672 -0.147941  0.479210 -0.009761  0.031616   \n",
       "3  1.0 -0.375000  0.50219  0.140625 -0.188321  0.252195 -0.052734  0.070620   \n",
       "4  1.0 -0.513250  0.46564  0.263426 -0.238990  0.216821 -0.135203  0.122661   \n",
       "\n",
       "        F12       F03  ...       F23       F14       F05           F60  \\\n",
       "0  0.025089  0.342354  ...  0.000900  0.012278  0.167542  1.815630e-08   \n",
       "1 -0.043509  0.321335  ...  0.002764 -0.020412  0.150752  6.362953e-07   \n",
       "2 -0.102412  0.331733  ...  0.015151 -0.049077  0.158970  9.526844e-05   \n",
       "3 -0.094573  0.126650  ...  0.017810 -0.023851  0.031940  2.780914e-03   \n",
       "4 -0.111283  0.100960  ...  0.026596 -0.024128  0.021890  1.827990e-02   \n",
       "\n",
       "            F51       F42       F33       F24       F15       F06  \n",
       "0  2.477505e-07  0.000003  0.000046  0.000629  0.008589  0.117206  \n",
       "1 -4.699318e-06  0.000035 -0.000256  0.001893 -0.013981  0.103256  \n",
       "2 -3.085938e-04  0.001000 -0.003238  0.010488 -0.033973  0.110047  \n",
       "3 -3.724126e-03  0.004987 -0.006679  0.008944 -0.011978  0.016040  \n",
       "4 -1.658422e-02  0.015046 -0.013650  0.012384 -0.011235  0.010193  \n",
       "\n",
       "[5 rows x 28 columns]"
      ]
     },
     "execution_count": 23,
     "metadata": {},
     "output_type": "execute_result"
    }
   ],
   "source": [
    "x1 = data['test1']\n",
    "x2 = data['test2']\n",
    "\n",
    "data2 = featureMapping(x1, x2, 6)\n",
    "data2.head()"
   ]
  },
  {
   "cell_type": "markdown",
   "metadata": {},
   "source": [
    "**构造数据集**"
   ]
  },
  {
   "cell_type": "code",
   "execution_count": 24,
   "metadata": {},
   "outputs": [
    {
     "data": {
      "text/plain": [
       "((118, 28), (118, 1))"
      ]
     },
     "execution_count": 24,
     "metadata": {},
     "output_type": "execute_result"
    }
   ],
   "source": [
    "X = data2.values\n",
    "y = data.iloc[:, -1].values\n",
    "y = y.reshape(len(y), 1)\n",
    "\n",
    "X.shape, y.shape"
   ]
  },
  {
   "cell_type": "markdown",
   "metadata": {},
   "source": [
    "**损失函数**\n",
    "\n",
    "现在的模型比较复杂，为了防止过拟合，添加 L2 正则项。\n",
    "\n",
    "$$J\\left( \\theta  \\right)=\\frac{1}{m}\\sum\\limits_{i=1}^{m}{[-{{y}^{(i)}}\\log \\left( {{h}_{\\theta }}\\left( {{x}^{(i)}} \\right) \\right)-\\left( 1-{{y}^{(i)}} \\right)\\log \\left( 1-{{h}_{\\theta }}\\left( {{x}^{(i)}} \\right) \\right)]}+\\frac{\\lambda }{2m}\\sum\\limits_{j=1}^{n}{\\theta _{j}^{2}}$$\n",
    "\n",
    "$\\lambda$越小，越容易过拟合；$\\lambda$ 越大，越容易欠拟合。"
   ]
  },
  {
   "cell_type": "code",
   "execution_count": 25,
   "metadata": {},
   "outputs": [],
   "source": [
    "# lr 是 learning rate，lambda\n",
    "# 跟线性可分相比，加一项 reg\n",
    "def costFunction2(X, y, theta, lr):\n",
    "    A = sigmoid(X @ theta)\n",
    "    \n",
    "    first = y * np.log(A)\n",
    "    second = (1 - y) * np.log(1 - A)\n",
    "    \n",
    "    reg = np.sum(np.power(theta[1:], 2)) * (lr / (2 * len(X)))\n",
    "    \n",
    "    return -np.sum(first + second) / len(X) + reg    # 加一项 reg"
   ]
  },
  {
   "cell_type": "code",
   "execution_count": 26,
   "metadata": {},
   "outputs": [
    {
     "data": {
      "text/plain": [
       "((118, 28), (118, 1), (28, 1))"
      ]
     },
     "execution_count": 26,
     "metadata": {},
     "output_type": "execute_result"
    }
   ],
   "source": [
    "theta = np.zeros((28, 1))\n",
    "X.shape, y.shape, theta.shape"
   ]
  },
  {
   "cell_type": "code",
   "execution_count": 27,
   "metadata": {},
   "outputs": [
    {
     "data": {
      "text/plain": [
       "0.6931471805599454"
      ]
     },
     "execution_count": 27,
     "metadata": {},
     "output_type": "execute_result"
    }
   ],
   "source": [
    "cost_init = costFunction2(X, y, theta, lr=1)\n",
    "cost_init"
   ]
  },
  {
   "cell_type": "markdown",
   "metadata": {},
   "source": [
    "**梯度下降**\n",
    "\n",
    "如果我们要使用梯度下降法令这个代价函数最小化，因为我们未对${{\\theta }_{0}}$ 进行正则化，所以梯度下降算法将分两种情形：\n",
    "\\begin{align}\n",
    "  & Repeat\\text{ }until\\text{ }convergence\\text{ }\\!\\!\\{\\!\\!\\text{ } \\\\ \n",
    " & \\text{     }{{\\theta }_{0}}:={{\\theta }_{0}}-a\\frac{1}{m}\\sum\\limits_{i=1}^{m}({[{{h}_{\\theta }}\\left( {{x}^{(i)}} \\right)-{{y}^{(i)}}]x_{_{0}}^{(i)}}) & for & j = 0\\\\ \n",
    " & \\text{     }{{\\theta }_{j}}:={{\\theta }_{j}}-a\\frac{1}{m}\\sum\\limits_{i=1}^{m}({[{{h}_{\\theta }}\\left( {{x}^{(i)}} \\right)-{{y}^{(i)}}]x_{j}^{(i)}}+\\frac{\\lambda }{m}{{\\theta }_{j}}) & for & j ≥ 1\\\\ \n",
    " & \\text{          }\\!\\!\\}\\!\\!\\text{ } \\\\ \n",
    " & Repeat \\\\ \n",
    "\\end{align}\n",
    "\n",
    "调整式子：\n",
    "$$\\theta = \\theta - \\frac{a}{m}*X^T(g(X\\theta)-y) - \\frac{\\lambda} {m}\\theta$$"
   ]
  },
  {
   "cell_type": "code",
   "execution_count": 37,
   "metadata": {},
   "outputs": [],
   "source": [
    "# 跟线性可分相比，减去一项 reg\n",
    "def gradientDescent2(X, y, theta, iters, alpha, lr, isPrint=False):\n",
    "    m = len(X)\n",
    "    costs = []\n",
    "    \n",
    "    for i in range(iters):\n",
    "        \n",
    "        reg = theta[1:] * (lr / m)\n",
    "        reg = np.insert(reg, 0, values=0, axis=0)   # 第一行补一个 0，对齐 shape\n",
    "        \n",
    "        A = sigmoid(X @ theta)\n",
    "        theta = theta - (alpha / m) * X.T @ (A - y) - reg   # 减去一项 reg\n",
    "        cost = costFunction2(X, y, theta, lr)\n",
    "        costs.append(cost)\n",
    "        \n",
    "        if i % 1000 == 0:\n",
    "            if isPrint:\n",
    "                print(cost)\n",
    "            \n",
    "    return theta, costs"
   ]
  },
  {
   "cell_type": "code",
   "execution_count": 38,
   "metadata": {},
   "outputs": [],
   "source": [
    "alpha = 0.001\n",
    "iters = 200000\n",
    "lr = 0.001"
   ]
  },
  {
   "cell_type": "code",
   "execution_count": 39,
   "metadata": {},
   "outputs": [
    {
     "name": "stdout",
     "output_type": "stream",
     "text": [
      "0.693134380798985\n",
      "0.6818650671550655\n",
      "0.672748697667896\n",
      "0.6649382350210216\n",
      "0.6579891999128368\n",
      "0.6516587811169662\n",
      "0.645806149345912\n",
      "0.6403433508679413\n",
      "0.6352109729552581\n",
      "0.6303658897986846\n",
      "0.625774925450325\n",
      "0.621411446085434\n",
      "0.6172534280039077\n",
      "0.613282288876784\n",
      "0.6094821289408\n",
      "0.6058392039109465\n",
      "0.6023415373766955\n",
      "0.598978623166525\n",
      "0.5957411897406796\n",
      "0.5926210098409752\n",
      "0.5896107446192149\n",
      "0.5867038148430397\n",
      "0.5838942938016073\n",
      "0.5811768178314223\n",
      "0.5785465112720829\n",
      "0.5759989233067381\n",
      "0.5735299746304318\n",
      "0.5711359122705992\n",
      "0.5688132711873028\n",
      "0.5665588415252293\n",
      "0.5643696405879911\n",
      "0.5622428887672919\n",
      "0.5601759887921506\n",
      "0.5581665077721994\n",
      "0.5562121615984903\n",
      "0.5543108013388562\n",
      "0.5524604013255084\n",
      "0.5506590486826008\n",
      "0.5489049340828341\n",
      "0.547196343556383\n",
      "0.5455316512037751\n",
      "0.5439093126878609\n",
      "0.5423278593995745\n",
      "0.5407858932084393\n",
      "0.5392820817223565\n",
      "0.5378151539925351\n",
      "0.536383896608914\n",
      "0.5349871501393715\n",
      "0.5336238058727042\n",
      "0.5322928028309695\n",
      "0.5309931250215411\n",
      "0.5297237989032203\n",
      "0.528483891044156\n",
      "0.5272725059522052\n",
      "0.5260887840608139\n",
      "0.524931899855611\n",
      "0.523801060128681\n",
      "0.5226955023490345\n",
      "0.521614493139108\n",
      "0.5205573268482758\n",
      "0.5195233242153318\n",
      "0.5185118311127694\n",
      "0.5175222173664221\n",
      "0.5165538756446821\n",
      "0.5156062204120885\n",
      "0.5146786869425667\n",
      "0.513770730388052\n",
      "0.5128818248986119\n",
      "0.5120114627905322\n",
      "0.5111591537591327\n",
      "0.5103244241333585\n",
      "0.5095068161694349\n",
      "0.5087058873810841\n",
      "0.5079212099040196\n",
      "0.5071523698925874\n",
      "0.5063989669466042\n",
      "0.5056606135665728\n",
      "0.504936934635598\n",
      "0.5042275669264421\n",
      "0.5035321586322633\n",
      "0.5028503689196948\n",
      "0.5021818675029982\n",
      "0.5015263342381191\n",
      "0.5008834587355473\n",
      "0.5002529399909577\n",
      "0.49963448603266514\n",
      "0.49902781358500103\n",
      "0.4984326477467659\n",
      "0.4978487216839617\n",
      "0.4972757763360699\n",
      "0.4967135601351682\n",
      "0.49616182873723635\n",
      "0.49562034476502925\n",
      "0.495088877561936\n",
      "0.4945672029562792\n",
      "0.49405510303553657\n",
      "0.493552365929996\n",
      "0.49305878560538763\n",
      "0.49257416166405826\n",
      "0.4920982991542736\n",
      "0.49163100838726903\n",
      "0.49117210476167483\n",
      "0.4907214085949733\n",
      "0.49027874496165974\n",
      "0.48984394353779454\n",
      "0.4894168384516561\n",
      "0.48899726814021005\n",
      "0.4885850752111383\n",
      "0.4881801063101703\n",
      "0.4877822119934835\n",
      "0.4873912466049453\n",
      "0.48700706815798295\n",
      "0.48662953822187927\n",
      "0.48625852181229895\n",
      "0.4858938872858639\n",
      "0.485535506238602\n",
      "0.48518325340810325\n",
      "0.4848370065792273\n",
      "0.4844966464932087\n",
      "0.4841620567600216\n",
      "0.4838331237738638\n",
      "0.48350973663163216\n",
      "0.48319178705426613\n",
      "0.48287916931084124\n",
      "0.4825717801452999\n",
      "0.4822695187057148\n",
      "0.48197228647597845\n",
      "0.48167998720982697\n",
      "0.48139252686710116\n",
      "0.4811098135521577\n",
      "0.4808317574543443\n",
      "0.4805582707904619\n",
      "0.4802892677491321\n",
      "0.48002466443699715\n",
      "0.47976437882668443\n",
      "0.47950833070646537\n",
      "0.4792564416315435\n",
      "0.4790086348769133\n",
      "0.4787648353917277\n",
      "0.4785249697551193\n",
      "0.47828896613342015\n",
      "0.478056754238729\n",
      "0.4778282652887758\n",
      "0.4776034319680369\n",
      "0.47738218839005475\n",
      "0.47716447006091733\n",
      "0.47695021384385716\n",
      "0.47673935792492955\n",
      "0.47653184177973007\n",
      "0.4763276061411169\n",
      "0.4761265929678997\n",
      "0.47592874541446206\n",
      "0.47573400780128816\n",
      "0.4755423255863549\n",
      "0.4753536453373683\n",
      "0.4751679147048079\n",
      "0.4749850823957551\n",
      "0.47480509814847927\n",
      "0.4746279127077521\n",
      "0.47445347780087144\n",
      "0.4742817461143651\n",
      "0.47411267127135504\n",
      "0.473946207809561\n",
      "0.47378231115991715\n",
      "0.4736209376257906\n",
      "0.4734620443627714\n",
      "0.4733055893590243\n",
      "0.47315153141617905\n",
      "0.47299983013074365\n",
      "0.47285044587602415\n",
      "0.4727033397845322\n",
      "0.4725584737308694\n",
      "0.472415810315069\n",
      "0.47227531284638247\n",
      "0.4721369453274973\n",
      "0.4720006724391723\n",
      "0.4718664595252757\n",
      "0.4717342725782179\n",
      "0.47160407822476097\n",
      "0.47147584371219914\n",
      "0.4713495368948935\n",
      "0.47122512622115587\n",
      "0.47110258072046524\n",
      "0.4709818699910129\n",
      "0.47086296418756024\n",
      "0.4707458340096072\n",
      "0.47063045068985293\n",
      "0.47051678598294955\n",
      "0.4704048121545338\n",
      "0.4702945019705316\n",
      "0.4701858286867251\n",
      "0.47007876603857873\n",
      "0.46997328823131185\n",
      "0.4698693699302142\n",
      "0.46976698625119684\n",
      "0.4696661127515702\n",
      "0.4695667254210449\n",
      "0.4694688006729474\n",
      "0.4693723153356451\n",
      "0.4692772466441765\n"
     ]
    }
   ],
   "source": [
    "theta_final, costs = gradientDescent2(X, y, theta, iters, alpha, lr, isPrint=True)"
   ]
  },
  {
   "cell_type": "code",
   "execution_count": 40,
   "metadata": {},
   "outputs": [
    {
     "data": {
      "text/plain": [
       "array([[ 1.2052072 ],\n",
       "       [ 0.5825871 ],\n",
       "       [ 1.13133192],\n",
       "       [-1.92011714],\n",
       "       [-0.83055737],\n",
       "       [-1.28494641],\n",
       "       [ 0.10189184],\n",
       "       [-0.34252061],\n",
       "       [-0.3413474 ],\n",
       "       [-0.18126064],\n",
       "       [-1.40955679],\n",
       "       [-0.06604286],\n",
       "       [-0.58032027],\n",
       "       [-0.2460958 ],\n",
       "       [-1.14671096],\n",
       "       [-0.24322073],\n",
       "       [-0.20113005],\n",
       "       [-0.05872139],\n",
       "       [-0.25848869],\n",
       "       [-0.27166559],\n",
       "       [-0.4910192 ],\n",
       "       [-1.01575376],\n",
       "       [ 0.01109593],\n",
       "       [-0.28015729],\n",
       "       [ 0.00479456],\n",
       "       [-0.30974881],\n",
       "       [-0.12601945],\n",
       "       [-0.94013426]])"
      ]
     },
     "execution_count": 40,
     "metadata": {},
     "output_type": "execute_result"
    }
   ],
   "source": [
    "theta_final"
   ]
  },
  {
   "cell_type": "code",
   "execution_count": 42,
   "metadata": {},
   "outputs": [
    {
     "name": "stdout",
     "output_type": "stream",
     "text": [
      "0.8305084745762712\n"
     ]
    }
   ],
   "source": [
    "y_predict = np.array(predict(X, theta_final))\n",
    "y_predict = y_predict.reshape(len(y_predict), 1)\n",
    "\n",
    "acc = np.mean(y_predict == y)\n",
    "\n",
    "print(acc)"
   ]
  },
  {
   "cell_type": "markdown",
   "metadata": {},
   "source": [
    "**决策边界**"
   ]
  },
  {
   "cell_type": "code",
   "execution_count": 43,
   "metadata": {},
   "outputs": [
    {
     "data": {
      "image/png": "[encoded data removed]",
      "text/plain": [
       "<Figure size 432x288 with 1 Axes>"
      ]
     },
     "metadata": {
      "needs_background": "light"
     },
     "output_type": "display_data"
    }
   ],
   "source": [
    "x = np.linspace(-1.2, 1.2, 200)\n",
    "xx, yy = np.meshgrid(x, x)\n",
    "\n",
    "# ravel() 把 200*200 的矩阵变成 400 长度的向量，然后做特征映射\n",
    "z = featureMapping(xx.ravel(), yy.ravel(), 6).values\n",
    "\n",
    "zz = z @ theta_final\n",
    "zz = zz.reshape(xx.shape)\n",
    "\n",
    "\n",
    "fig, ax = plt.subplots()\n",
    "ax.scatter(data[data['accepted']==0]['test1'], data[data['accepted']==0]['test2'],\n",
    "           c='r', marker='x', label='y=0')    # accepted = 0 的点的绘制\n",
    "ax.scatter(data[data['accepted']==1]['test1'], data[data['accepted']==1]['test2'],\n",
    "           c='b', marker='o', label='y=1')    # accepted = 1 的点的绘制\n",
    "ax.legend()\n",
    "ax.set(xlabel='test1', ylabel='test2')\n",
    "\n",
    "plt.contour(xx, yy, zz, 0)    # 等高线的绘制\n",
    "plt.show()"
   ]
  },
  {
   "cell_type": "markdown",
   "metadata": {},
   "source": [
    "验证一下：如果 lr 太大，会欠拟合"
   ]
  },
  {
   "cell_type": "code",
   "execution_count": 48,
   "metadata": {},
   "outputs": [
    {
     "name": "stdout",
     "output_type": "stream",
     "text": [
      "0.6931343808043247\n",
      "0.6853092313769457\n",
      "0.682468657526718\n",
      "0.6813587324505798\n",
      "0.6808978476737331\n",
      "0.6806913350632312\n",
      "0.6805888353170843\n",
      "0.6805314383931685\n",
      "0.6804953370228699\n",
      "0.6804704613430752\n",
      "0.6804522468511385\n",
      "0.6804384159056968\n",
      "0.6804276951503886\n",
      "0.6804192894736895\n",
      "0.6804126563796227\n",
      "0.68040740251216\n",
      "0.6804032316923775\n",
      "0.6803999159055469\n",
      "0.6803972773350363\n",
      "0.6803951762525547\n",
      "0.680393502349229\n",
      "0.680392168283467\n",
      "0.6803911047619559\n",
      "0.6803902567339369\n",
      "0.6803895804197043\n",
      "0.6803890409766992\n",
      "0.6803886106590799\n",
      "0.6803882673623591\n",
      "0.6803879934702022\n",
      "0.6803877749392417\n",
      "0.6803876005719449\n",
      "0.6803874614383533\n",
      "0.6803873504158933\n",
      "0.6803872618229403\n",
      "0.680387191126901\n",
      "0.6803871347115849\n",
      "0.6803870896917618\n",
      "0.6803870537653038\n",
      "0.6803870250952787\n",
      "0.680387002215901\n",
      "0.680386983957519\n",
      "0.6803869693867678\n",
      "0.6803869577588266\n",
      "0.6803869484793237\n",
      "0.6803869410739429\n",
      "0.6803869351641717\n",
      "0.6803869304479463\n",
      "0.680386926684214\n",
      "0.6803869236806058\n",
      "0.6803869212836058\n",
      "0.6803869193707021\n",
      "0.6803869178441269\n",
      "0.6803869166258568\n",
      "0.6803869156536272\n",
      "0.6803869148777473\n",
      "0.6803869142585629\n",
      "0.6803869137644276\n",
      "0.6803869133700875\n",
      "0.6803869130553876\n",
      "0.6803869128042435\n",
      "0.6803869126038202\n",
      "0.680386912443874\n",
      "0.6803869123162303\n",
      "0.6803869122143651\n",
      "0.6803869121330722\n",
      "0.6803869120681975\n",
      "0.6803869120164242\n",
      "0.6803869119751075\n",
      "0.6803869119421347\n",
      "0.6803869119158211\n",
      "0.6803869118948218\n",
      "0.6803869118780637\n",
      "0.6803869118646896\n",
      "0.6803869118540166\n",
      "0.6803869118454993\n",
      "0.680386911838702\n",
      "0.6803869118332776\n",
      "0.6803869118289484\n",
      "0.6803869118254938\n",
      "0.6803869118227367\n",
      "0.6803869118205366\n",
      "0.6803869118187805\n",
      "0.6803869118173794\n",
      "0.6803869118162609\n",
      "0.6803869118153686\n",
      "0.6803869118146566\n",
      "0.680386911814088\n",
      "0.6803869118136346\n",
      "0.6803869118132728\n",
      "0.6803869118129838\n",
      "0.6803869118127533\n",
      "0.680386911812569\n",
      "0.6803869118124225\n",
      "0.6803869118123053\n",
      "0.6803869118122117\n",
      "0.6803869118121371\n",
      "0.6803869118120778\n",
      "0.6803869118120298\n",
      "0.680386911811992\n",
      "0.6803869118119619\n",
      "0.6803869118119377\n",
      "0.6803869118119182\n",
      "0.6803869118119029\n",
      "0.6803869118118908\n",
      "0.6803869118118809\n",
      "0.6803869118118732\n",
      "0.6803869118118671\n",
      "0.6803869118118621\n",
      "0.6803869118118581\n",
      "0.680386911811855\n",
      "0.6803869118118523\n",
      "0.6803869118118504\n",
      "0.6803869118118484\n",
      "0.6803869118118476\n",
      "0.6803869118118467\n",
      "0.6803869118118464\n",
      "0.6803869118118453\n",
      "0.680386911811845\n",
      "0.6803869118118446\n",
      "0.6803869118118449\n",
      "0.6803869118118437\n",
      "0.6803869118118434\n",
      "0.6803869118118436\n",
      "0.6803869118118436\n",
      "0.6803869118118436\n",
      "0.6803869118118434\n",
      "0.6803869118118435\n",
      "0.6803869118118435\n",
      "0.6803869118118435\n",
      "0.6803869118118436\n",
      "0.6803869118118436\n",
      "0.6803869118118436\n",
      "0.6803869118118436\n",
      "0.6803869118118436\n",
      "0.6803869118118436\n",
      "0.6803869118118436\n",
      "0.6803869118118436\n",
      "0.6803869118118436\n",
      "0.6803869118118436\n",
      "0.6803869118118436\n",
      "0.6803869118118436\n",
      "0.6803869118118436\n",
      "0.6803869118118436\n",
      "0.6803869118118436\n",
      "0.6803869118118436\n",
      "0.6803869118118436\n",
      "0.6803869118118436\n",
      "0.6803869118118436\n",
      "0.6803869118118436\n",
      "0.6803869118118436\n",
      "0.6803869118118436\n",
      "0.6803869118118436\n",
      "0.6803869118118436\n",
      "0.6803869118118436\n",
      "0.6803869118118436\n",
      "0.6803869118118436\n",
      "0.6803869118118436\n",
      "0.6803869118118436\n",
      "0.6803869118118436\n",
      "0.6803869118118436\n",
      "0.6803869118118436\n",
      "0.6803869118118436\n",
      "0.6803869118118436\n",
      "0.6803869118118436\n",
      "0.6803869118118436\n",
      "0.6803869118118436\n",
      "0.6803869118118436\n",
      "0.6803869118118436\n",
      "0.6803869118118436\n",
      "0.6803869118118436\n",
      "0.6803869118118436\n",
      "0.6803869118118436\n",
      "0.6803869118118436\n",
      "0.6803869118118436\n",
      "0.6803869118118436\n",
      "0.6803869118118436\n",
      "0.6803869118118436\n",
      "0.6803869118118436\n",
      "0.6803869118118436\n",
      "0.6803869118118436\n",
      "0.6803869118118436\n",
      "0.6803869118118436\n",
      "0.6803869118118436\n",
      "0.6803869118118436\n",
      "0.6803869118118436\n",
      "0.6803869118118436\n",
      "0.6803869118118436\n",
      "0.6803869118118436\n",
      "0.6803869118118436\n",
      "0.6803869118118436\n",
      "0.6803869118118436\n",
      "0.6803869118118436\n",
      "0.6803869118118436\n",
      "0.6803869118118436\n",
      "0.6803869118118436\n",
      "0.6803869118118436\n",
      "0.6803869118118436\n",
      "0.6803869118118436\n",
      "0.6803869118118436\n",
      "0.6803869118118436\n",
      "acc= 0.6101694915254238\n"
     ]
    }
   ],
   "source": [
    "lr = 0.1\n",
    "theta = np.zeros((28, 1))\n",
    "\n",
    "theta_final, costs = gradientDescent2(X, y, theta, iters, alpha, lr, isPrint=True)\n",
    "y_predict = np.array(predict(X, theta_final))\n",
    "y_predict = y_predict.reshape(len(y_predict), 1)\n",
    "\n",
    "acc = np.mean(y_predict == y)\n",
    "\n",
    "print('acc=', acc)"
   ]
  },
  {
   "cell_type": "code",
   "execution_count": 49,
   "metadata": {},
   "outputs": [
    {
     "data": {
      "image/png": "[encoded data removed]",
      "text/plain": [
       "<Figure size 432x288 with 1 Axes>"
      ]
     },
     "metadata": {
      "needs_background": "light"
     },
     "output_type": "display_data"
    }
   ],
   "source": [
    "x = np.linspace(-1.2, 1.2, 200)\n",
    "xx, yy = np.meshgrid(x, x)\n",
    "\n",
    "# ravel() 把 200*200 变成 400，然后做特征映射\n",
    "z = featureMapping(xx.ravel(), yy.ravel(), 6).values\n",
    "\n",
    "zz = z @ theta_final\n",
    "zz = zz.reshape(xx.shape)\n",
    "\n",
    "\n",
    "fig, ax = plt.subplots()\n",
    "ax.scatter(data[data['accepted']==0]['test1'], data[data['accepted']==0]['test2'],\n",
    "           c='r', marker='x', label='y=0')    # accepted = 0 的点的绘制\n",
    "ax.scatter(data[data['accepted']==1]['test1'], data[data['accepted']==1]['test2'],\n",
    "           c='b', marker='o', label='y=1')    # accepted = 1 的点的绘制\n",
    "ax.legend()\n",
    "ax.set(xlabel='test1', ylabel='test2')\n",
    "\n",
    "plt.contour(xx, yy, zz, 0)    # 等高线的绘制\n",
    "plt.show()"
   ]
  },
  {
   "cell_type": "code",
   "execution_count": null,
   "metadata": {},
   "outputs": [],
   "source": []
  }
 ],
 "metadata": {
  "kernelspec": {
   "display_name": "Python 3",
   "language": "python",
   "name": "python3"
  },
  "language_info": {
   "codemirror_mode": {
    "name": "ipython",
    "version": 3
   },
   "file_extension": ".py",
   "mimetype": "text/x-python",
   "name": "python",
   "nbconvert_exporter": "python",
   "pygments_lexer": "ipython3",
   "version": "3.7.6"
  }
 },
 "nbformat": 4,
 "nbformat_minor": 4
}
